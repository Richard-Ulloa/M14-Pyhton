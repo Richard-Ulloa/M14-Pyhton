{
  "nbformat": 4,
  "nbformat_minor": 0,
  "metadata": {
    "kernelspec": {
      "display_name": "Python 3",
      "language": "python",
      "name": "python3"
    },
    "language_info": {
      "codemirror_mode": {
        "name": "ipython",
        "version": 3
      },
      "file_extension": ".py",
      "mimetype": "text/x-python",
      "name": "python",
      "nbconvert_exporter": "python",
      "pygments_lexer": "ipython3",
      "version": "3.8.5"
    },
    "colab": {
      "name": "(RU) Activitats Python Estructures de dades.ipynb",
      "provenance": [],
      "collapsed_sections": []
    }
  },
  "cells": [
    {
      "cell_type": "markdown",
      "metadata": {
        "id": "hc-1QNhe-73i"
      },
      "source": [
        "## Activitats Python Estructures de dades (llistes, tuples, conjunts, diccionaris)"
      ]
    },
    {
      "cell_type": "markdown",
      "metadata": {
        "id": "qtUQhLO1YxQG"
      },
      "source": [
        "**Llistes**\n",
        "\n",
        "---\n",
        "\n"
      ]
    },
    {
      "cell_type": "markdown",
      "metadata": {
        "id": "igrk3BaM-73y"
      },
      "source": [
        "1.- Fer la llista inversa de list = [100, 200, 300, 400, 500]\n",
        "\n",
        "\n"
      ]
    },
    {
      "cell_type": "code",
      "metadata": {
        "id": "jw8M4IzsfTn7"
      },
      "source": [
        "list = [100, 200, 300, 400, 500]\n",
        "list.reverse()\n",
        "print(list)"
      ],
      "execution_count": null,
      "outputs": []
    },
    {
      "cell_type": "markdown",
      "metadata": {
        "id": "BcbA8uvqXpur"
      },
      "source": [
        "2.- Trobar el número més gran i més petit d'una llista"
      ]
    },
    {
      "cell_type": "code",
      "metadata": {
        "id": "uQ2jmCQcfUT2"
      },
      "source": [
        "list = [100, 200, 300, 400, 500]\n",
        "mgran = max(list)\n",
        "mpetit = min(list)\n",
        "print(\"El numero ms grande de la lista es\", mgran, \"y el mas prqueño es\", mpetit)"
      ],
      "execution_count": null,
      "outputs": []
    },
    {
      "cell_type": "markdown",
      "metadata": {
        "id": "8TkeHLio-731"
      },
      "source": [
        "3.- Concatena dos llistes seguint el següent ordre:\n",
        "\n",
        "list1 = [\"M\", \"na\", \"i\", \"Ke\"]\n",
        "\n",
        "list2 = [\"y\", \"me\", \"s\", \"lly\"]\n",
        "\n",
        "Resultat:\n",
        "\n",
        "['My', 'name', 'is', 'Kelly']"
      ]
    },
    {
      "cell_type": "code",
      "metadata": {
        "id": "RS6Aauw6fVeZ"
      },
      "source": [
        "list1 = [\"M\",\"na\",\"i\",\"Ke\"]\n",
        "list2 = [\"y\",\"me\",\"s\",\"lly\"]\n",
        "list3 = [list1[0]+list2[0], list1[1]+list2[1], list1[2]+list2[2], list1[3]+list2[3]]\n",
        "print(list3)"
      ],
      "execution_count": null,
      "outputs": []
    },
    {
      "cell_type": "markdown",
      "metadata": {
        "id": "e89enGT6Y5tz"
      },
      "source": [
        "**Tuples**\n",
        "\n",
        "\n",
        "---\n",
        "\n"
      ]
    },
    {
      "cell_type": "markdown",
      "metadata": {
        "id": "VmWBcFsQY4o1"
      },
      "source": [
        "4.- Crear una tupla manualment i trobar els elements duplicats"
      ]
    },
    {
      "cell_type": "code",
      "metadata": {
        "id": "NAXULaW7MK-d",
        "colab": {
          "base_uri": "https://localhost:8080/"
        },
        "outputId": "77d87d1c-05a4-42b5-e34a-1442071a86ad"
      },
      "source": [
        "tupla = (2,1,1,\"juan\",\"juan\" ,2,4,33, 23,)\n",
        "duplicados = []\n",
        "unicos = []\n",
        "for i in tupla:\n",
        "  if i not in unicos:\n",
        "    unicos.append(i)\n",
        "  else:\n",
        "    duplicados.append(i)\n",
        "print(duplicados)\n"
      ],
      "execution_count": null,
      "outputs": [
        {
          "output_type": "stream",
          "text": [
            "[1, 'juan', 2]\n"
          ],
          "name": "stdout"
        }
      ]
    },
    {
      "cell_type": "markdown",
      "metadata": {
        "id": "hLdIr2KnJRh7"
      },
      "source": [
        "5.- Crear una tupla a partir d'una llista"
      ]
    },
    {
      "cell_type": "code",
      "metadata": {
        "id": "9tWYs41RfXb8"
      },
      "source": [
        "l = [8,7,6,5,4,3,2,1,0]\n",
        "t = tuple(l)\n",
        "print(type(t))"
      ],
      "execution_count": null,
      "outputs": []
    },
    {
      "cell_type": "markdown",
      "metadata": {
        "id": "sNhKfE_bJf6u"
      },
      "source": [
        "6.- Escriure un codi que sumi les tuples tal com:\n",
        "\n",
        "(1, 2, 3, 4)\n",
        "\n",
        "(3, 5, 2, 1)\n",
        "\n",
        "(2, 2, 3, 1)\n",
        "\n",
        "Resultat:\n",
        "\n",
        " (6, 9, 8, 6)"
      ]
    },
    {
      "cell_type": "code",
      "metadata": {
        "id": "y7-s7uPKfYBr"
      },
      "source": [
        "t1 = (1, 2, 3, 4)\n",
        "t2 = (3, 5, 2, 1)\n",
        "t3 = (2, 2, 3, 1) \n",
        "resultat = []\n",
        "\n",
        "for i in range(4):\n",
        "    resultat.append(t1[i] + t2[i] + t3[i])\n",
        "print(resultat)\n"
      ],
      "execution_count": null,
      "outputs": []
    },
    {
      "cell_type": "markdown",
      "metadata": {
        "id": "Ko7kcdcNK6hU"
      },
      "source": [
        "**Conjunts**\n",
        "\n",
        "\n",
        "---\n",
        "\n"
      ]
    },
    {
      "cell_type": "markdown",
      "metadata": {
        "id": "PxcodpOLY974"
      },
      "source": [
        "7.- Escriure un codi que retorni els elements repetits d'aquests dos conjunts\n",
        "\n",
        "set1 = {10, 20, 30, 40, 50}\n",
        "\n",
        "set2 = {30, 40, 50, 60, 70}\n",
        "\n",
        "Resultat: {40, 50, 30}"
      ]
    },
    {
      "cell_type": "code",
      "metadata": {
        "id": "X6RobhEofaT4"
      },
      "source": [
        "set1 = {10, 20, 30, 40, 50}\n",
        "set2 = {30, 40, 50, 60, 70}\n",
        "duplicados = []\n",
        "\n",
        "for i in set1:\n",
        "  if i == i in set2:\n",
        "    duplicados.append(i)\n",
        "print(duplicados)\n"
      ],
      "execution_count": null,
      "outputs": []
    },
    {
      "cell_type": "markdown",
      "metadata": {
        "id": "VYdPkfuWZlYF"
      },
      "source": [
        "8.- Escriure un codi que retorni els elements dels dos conjunts excepte els elements repetits\n",
        "\n",
        "set1 = {10, 20, 30, 40, 50}\n",
        "\n",
        "set2 = {30, 40, 50, 60, 70}\n",
        "\n",
        "Resultat: {10, 20, 30, 40, 50, 60, 70}"
      ]
    },
    {
      "cell_type": "code",
      "metadata": {
        "id": "lbdWaA7_fbdv"
      },
      "source": [
        "set1 = {10, 20, 30, 40, 50}\n",
        "set2 = {30, 40, 50, 60, 70}\n",
        "\n",
        "set1 |= set2\n",
        "print(sorted(set1))"
      ],
      "execution_count": null,
      "outputs": []
    },
    {
      "cell_type": "markdown",
      "metadata": {
        "id": "rD1GggE1LAoi"
      },
      "source": [
        "**Diccionaris**\n",
        "\n",
        "\n",
        "---\n",
        "\n"
      ]
    },
    {
      "cell_type": "markdown",
      "metadata": {
        "id": "Z9nh9pJEZ8ib"
      },
      "source": [
        "9.- Convertir aquestes dues llistes en un diccionari\n",
        "\n",
        "keys = ['Ten', 'Twenty', 'Thirty']\n",
        "\n",
        "values = [10, 20, 30]\n",
        "\n",
        "Resultat: {'Ten': 10, 'Twenty': 20, 'Thirty': 30}"
      ]
    },
    {
      "cell_type": "code",
      "metadata": {
        "id": "JZYPPExnfcsX"
      },
      "source": [
        "keys = ['Ten', 'Twenty', 'Thirty']\n",
        "values = [10, 20, 30]\n",
        "resultat= {}\n",
        "\n",
        "for i in range(3):\n",
        "  resultat[keys[i]] = values[i]\n",
        "print(resultat)"
      ],
      "execution_count": null,
      "outputs": []
    },
    {
      "cell_type": "markdown",
      "metadata": {
        "id": "j8hIw5r4bVrL"
      },
      "source": [
        "10.- Comprovar si el valor 200 existeix en aquest diccionari\n",
        "\n",
        "sampleDict = {'a': 100, 'b': 200, 'c': 300}\n",
        "\n",
        "Resultat: True"
      ]
    },
    {
      "cell_type": "code",
      "metadata": {
        "id": "MBAo5PNxfdr8"
      },
      "source": [
        "sampleDict = {'a': 100, 'b': 200, 'c': 300}\n",
        "n = 200\n",
        "for i in sampleDict:\n",
        "  if n == sampleDict[i]:\n",
        "   R = \"True\"\n",
        "   break\n",
        "  else:\n",
        "    R = \"False\"\n",
        "print(R)"
      ],
      "execution_count": null,
      "outputs": []
    }
  ]
}