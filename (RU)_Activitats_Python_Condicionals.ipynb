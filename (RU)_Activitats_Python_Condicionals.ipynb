{
  "nbformat": 4,
  "nbformat_minor": 0,
  "metadata": {
    "kernelspec": {
      "display_name": "Python 3",
      "language": "python",
      "name": "python3"
    },
    "language_info": {
      "codemirror_mode": {
        "name": "ipython",
        "version": 3
      },
      "file_extension": ".py",
      "mimetype": "text/x-python",
      "name": "python",
      "nbconvert_exporter": "python",
      "pygments_lexer": "ipython3",
      "version": "3.7.3"
    },
    "colab": {
      "name": "(RU) Activitats Python Condicionals.ipynb",
      "provenance": [],
      "collapsed_sections": []
    }
  },
  "cells": [
    {
      "cell_type": "markdown",
      "metadata": {
        "id": "xJSPxTO6BZHC"
      },
      "source": [
        "## Activitats Python Condicionals"
      ]
    },
    {
      "cell_type": "markdown",
      "metadata": {
        "id": "plCVIuTIZqqL"
      },
      "source": [
        "1. Escriu un programa que digui si ets major d'edat (18 anys) o no. Cal demanar l'edat per teclat.\n",
        "\n",
        "Exemple :\n",
        "\n",
        "18 anys --> Ets major d'edat\n",
        "\n",
        "15 anys --> Ets menor d'edat"
      ]
    },
    {
      "cell_type": "code",
      "metadata": {
        "id": "76dQawk9ZqqM"
      },
      "source": [
        "edad = int(input(\"Cual es tu edad? \"))\n",
        "\n",
        "if edad >= 18:\n",
        "  print(\"Eres mayor de edad\")\n",
        "else:\n",
        "  print(\"Eres menor de edad\")"
      ],
      "execution_count": null,
      "outputs": []
    },
    {
      "cell_type": "markdown",
      "metadata": {
        "id": "Hakyg1Rxd948"
      },
      "source": [
        "2. Escriu un programa que calcula la edat d'un gos segons la seva correspondència amb els humans. Els dos primers anys, un any de gos són 10.5 anys d'humans. Després, cada any de gos equival a 4 anys d'humans.\n",
        "\n",
        "Exemple: Un gos de 15 anys d'humans equival a 73 anys de gos"
      ]
    },
    {
      "cell_type": "code",
      "metadata": {
        "id": "ffboOsyCeAl3"
      },
      "source": [
        "edadh=int(input(\"Introduce la edad humana a calcular: \"))\n",
        "\n",
        "if edadh >= 2:\n",
        "  print(\"La edad de tu canino es: \"(edadh * 4) + 13)\n",
        "else:\n",
        "  print(\"La edad de tu canino es: \",  edadh * 10.5) "
      ],
      "execution_count": null,
      "outputs": []
    },
    {
      "cell_type": "markdown",
      "metadata": {
        "id": "APn5ru7-eA6y"
      },
      "source": [
        "3. Escriu un programa que demani una lletra de l'alfabet i digui si és una vocal o una consonant "
      ]
    },
    {
      "cell_type": "code",
      "metadata": {
        "id": "--BV3qB_etrP"
      },
      "source": [
        "letra = str(input(\"Introduce una letra del alfabeto: \"))\n",
        "vocales = [\"a\", \"e\", \"i\", \"o\", \"u\"]\n",
        "\n",
        "if letra in vocales:\n",
        "  print(letra, \"es una vocal.\")\n",
        "else:\n",
        "  print(letra, \"es una consonante.\")"
      ],
      "execution_count": null,
      "outputs": []
    },
    {
      "cell_type": "markdown",
      "metadata": {
        "id": "zNj-8y6geuDE"
      },
      "source": [
        "4. Escriu un programa que digui el número de dies que té un mes. \n",
        "\n",
        "Exemple: \n",
        "\n",
        "Introdueix el mes: Març\n",
        "\n",
        "Març té 31 dies\n",
        "\n",
        "Introdueix el mes: Novembre\n",
        "\n",
        "Novembre té 30 dies"
      ]
    },
    {
      "cell_type": "code",
      "metadata": {
        "id": "fu-BJPAofMVs"
      },
      "source": [
        "mesesdias31 = [\"Enero\", \"Marzo\", \"Mayo\", \"Julio\", \"Agosto\", \"Octubre\", \"Diciembre\"]\n",
        "introduce = str(input(\"Introduce el mes: \"))\n",
        "\n",
        "if introduce in mesesdias31:\n",
        "  print(introduce, \"tiene 31 dias.\")\n",
        "\n",
        "elif introduce == \"Febrero\":\n",
        "  print(introduce, \"tiene 28 dias y en año bisiesto tiene 29 dias.\")\n",
        "\n",
        "else:\n",
        "  print(introduce, \"tiene 30 dias.\")"
      ],
      "execution_count": null,
      "outputs": []
    },
    {
      "cell_type": "markdown",
      "metadata": {
        "id": "YceGYWuSfMgZ"
      },
      "source": [
        "5. Escriu un programa que demani una cadena de text i digui si representa un enter o no, comprovant cada caràcter de la cadena de text.\n",
        "\n",
        "Exemple:\n",
        "\n",
        "Escriu una cadena de text: Python\n",
        "\n",
        "Python NO representa un enter "
      ]
    },
    {
      "cell_type": "code",
      "metadata": {
        "id": "1LzEQv5rf3QW"
      },
      "source": [
        "l = [\"1\", \"2\", \"3\", \"4\", \"5\", \"6\", \"7\", \"8\", \"9\", \"0\"]\n",
        "text = input(\"Escribe una cadena de texto: \")\n",
        "\n",
        "if i in text not in l:\n",
        "  print(text, \"representa un entero.\")\n",
        "else:\n",
        "  print(text, \"NO representa un entero.\")"
      ],
      "execution_count": null,
      "outputs": []
    },
    {
      "cell_type": "markdown",
      "metadata": {
        "id": "jn7g2jvQf3iX"
      },
      "source": [
        "6. Escriu un programa que digui si un triangle és equilater, isòsceles o escalé.\n",
        "\n",
        "Equilàter té els 3 costats iguals\n",
        "\n",
        "Isòscieles té com a mínim 2 costats iguals\n",
        "\n",
        "Escalè té 3 costats diferents"
      ]
    },
    {
      "cell_type": "code",
      "metadata": {
        "id": "6T74F-KTij2s"
      },
      "source": [
        "C1 = float(input(\"Introduce el primer costado: \"))\n",
        "C2 = float(input(\"Introduce el segundo costado: \"))\n",
        "C3 = float(input(\"Introduce el tercer costado: \"))\n",
        "\n",
        "if C1 == C2 == C3:\n",
        "  print(\"Es un triangulo Equilatero\")\n",
        "elif C1 != C2 == C3:\n",
        "  print(\"Es un triangulo Isósceles\")\n",
        "elif C1 == C2 != C3:\n",
        "  print(\"Es un triangulo Isósceles\")\n",
        "elif C1 == C3 != C2:\n",
        "  print(\"Es un triangulo Isósceles\")\n",
        "else:\n",
        "  print(\"Es un triangulo Escaleno\")"
      ],
      "execution_count": null,
      "outputs": []
    },
    {
      "cell_type": "markdown",
      "metadata": {
        "id": "6zAbEeJ8ikCf"
      },
      "source": [
        "7. Escriu un programa que digui el signe del zodiac segons la data de naixement. Cal demanar dia i mes de naixement\n",
        "![tabla-horoscopo-fechas.png](data:image/png;base64,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)"
      ]
    },
    {
      "cell_type": "code",
      "metadata": {
        "id": "XMHq4WvWjjpu"
      },
      "source": [
        "signos = (\"CAPRICORNIO\", \"ACUARIO\", \"PISCIS\", \"ARIES\", \"TAURO\", \"GÉMINIS\", \"CÁNCER\", \"LEO\", \"VIRGO\", \"LIBRA\", \"ESCORPIO\", \"SAGITARIO\")\n",
        "dias = (20, 19, 20, 20, 21, 21, 22, 22, 22, 22, 22, 21)\n",
        "\n",
        "id=int(input(\"Dia: \"))\n",
        "im=int(input(\"Mes: \"))\n",
        "\n",
        "im = im - 1\n",
        "if id > dias[im]:\n",
        "    im = im + 1\n",
        "if im == 12:\n",
        "    im = 0\n",
        "\n",
        "print (\"Tu signo es:\", signos[im])"
      ],
      "execution_count": null,
      "outputs": []
    },
    {
      "cell_type": "markdown",
      "metadata": {
        "id": "cu1YdT97jj8e"
      },
      "source": [
        "8. Escriu un programa que demani el dia i mes i retorni l'estació de l'any: primavera, estiu, tardor, hivern"
      ]
    },
    {
      "cell_type": "code",
      "metadata": {
        "id": "LrIC0BCPkiQ9"
      },
      "source": [
        "Primavera = (\"Marzo\",\"Abril\",\"Mayo\")\n",
        "Verano = (\"Junio\",\"Julio\",\"Agosto\")\n",
        "Otoño = (\"Septiembre\",\"Octubre\",\"Noviembre\")\n",
        "Invierno = (\"Diciembre\",\"Enero\",\"Febrero\")\n",
        "\n",
        "Dia = input(\"Introduce un dia: \")\n",
        "Mes = input(\"Introduce un mes: \")\n",
        "\n",
        "if Mes in Primavera:\n",
        "  print(\"La estación del año es Primavera\")\n",
        "elif Mes in Verano:\n",
        "  print(\"La estación del año es Verano\")\n",
        "elif Mes in Otoño:\n",
        "  print(\"La estación del año es Otoño\")\n",
        "elif Mes in Invierno:\n",
        "  print(\"La estación del año es Invierno\")"
      ],
      "execution_count": null,
      "outputs": []
    },
    {
      "cell_type": "markdown",
      "metadata": {
        "id": "vRno5TYMkiow"
      },
      "source": [
        "9. Escriu un programa que trobi el número mitjà dels tres números donats. Cal ordenar els tres números i trobar el valor del mig\n",
        "\n",
        "Exemple:\n",
        "\n",
        "25\n",
        "\n",
        "65\n",
        "\n",
        "55\n",
        "\n",
        "El número mitjà és: 55"
      ]
    },
    {
      "cell_type": "code",
      "metadata": {
        "id": "fo8tb6Wvrb9y"
      },
      "source": [
        "n1 = int(input(\"Introduce el primer numero: \"))\n",
        "n2 = int(input(\"Introduce el segundo numero: \"))\n",
        "n3 = int(input(\"Introduce el tercer numero: \"))\n",
        "\n",
        "if n1 > n2 and n1 < n3:\n",
        "  print(\"Es el numero medio:\", n1)\n",
        "\n",
        "elif n1 < n2 and n1 > n3:\n",
        "  print(\"Es el numero medio:\", n1)\n",
        "\n",
        "elif n2 > n1 and n2 < n3:\n",
        "  print(\"Es el numero medio:\", n2)\n",
        "\n",
        "elif n2 < n1 and n2 > n3:\n",
        "  print(\"Es el numero medio:\", n2)\n",
        "\n",
        "elif n3 > n1 and n3 < n2:\n",
        "  print(\"Es el numero medio.\", n3)\n",
        "\n",
        "elif n3 < n1 and n3 > n2:\n",
        "  print(\"Es el numero medio.\", n3)"
      ],
      "execution_count": null,
      "outputs": []
    },
    {
      "cell_type": "markdown",
      "metadata": {
        "id": "2ktp98PwrZ9Y"
      },
      "source": [
        "10. Escriu un programa que accepti una cadena de text i digui la quantitat de lletres i números que conté.\n",
        "\n",
        "Usar les funcions:\n",
        "\n",
        "isdigit(): retorna si un caràcter és un número\n",
        "\n",
        "isalpha(): retorna si un caràcter és un caràcter"
      ]
    },
    {
      "cell_type": "code",
      "metadata": {
        "id": "ML0yIr0TqxeS"
      },
      "source": [
        "t = str(input(\"Introduce una cadena de texto: \"))\n",
        "c = 0\n",
        "n = 0\n",
        "\n",
        "for i in t:\n",
        "  if i.isdigit():\n",
        "    n = n + 1\n",
        "    \n",
        "  elif i.isalpha():\n",
        "    c = c + 1\n",
        "\n",
        "print(\"La cantidad de letras que contiene tu cadena es de:\", c)\n",
        "print(\"La cantidad de numeros que contiene tu cadena es de:\", n)"
      ],
      "execution_count": null,
      "outputs": []
    }
  ]
}