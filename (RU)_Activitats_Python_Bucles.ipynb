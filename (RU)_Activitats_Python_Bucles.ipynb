{
  "nbformat": 4,
  "nbformat_minor": 0,
  "metadata": {
    "kernelspec": {
      "display_name": "Python 3",
      "language": "python",
      "name": "python3"
    },
    "language_info": {
      "codemirror_mode": {
        "name": "ipython",
        "version": 3
      },
      "file_extension": ".py",
      "mimetype": "text/x-python",
      "name": "python",
      "nbconvert_exporter": "python",
      "pygments_lexer": "ipython3",
      "version": "3.8.5"
    },
    "colab": {
      "name": "(RU) Activitats Python Bucles.ipynb",
      "provenance": [],
      "collapsed_sections": []
    }
  },
  "cells": [
    {
      "cell_type": "markdown",
      "metadata": {
        "id": "hc-1QNhe-73i"
      },
      "source": [
        "## Activitats Python Bucles (For, While)"
      ]
    },
    {
      "cell_type": "markdown",
      "metadata": {
        "id": "qtUQhLO1YxQG"
      },
      "source": [
        "**For**\n",
        "\n",
        "---\n",
        "\n"
      ]
    },
    {
      "cell_type": "markdown",
      "metadata": {
        "id": "igrk3BaM-73y"
      },
      "source": [
        "1.- Escriu un codi que generi la següent sortida per pantalla\n",
        "\n",
        "5 4 3 2 1 \n",
        "\n",
        "4 3 2 1 \n",
        "\n",
        "3 2 1 \n",
        "\n",
        "2 1 \n",
        "\n",
        "1"
      ]
    },
    {
      "cell_type": "code",
      "metadata": {
        "id": "MPItNIDb1fMo"
      },
      "source": [
        "a = 5\n",
        "for i in range(0, a + 1):\n",
        "    for j in range(a - i, 0, -1):\n",
        "        print(j, end=' ')\n",
        "    print()"
      ],
      "execution_count": null,
      "outputs": []
    },
    {
      "cell_type": "markdown",
      "metadata": {
        "id": "LIJHtk7dlceC"
      },
      "source": [
        "2.- Escriu un codi que llegeixi 4 números que són 4 octets d'una adreça IP i escrigui per pantalla les següents 5 adreçes IP\n",
        "\n",
        "Entrada:\n",
        "\n",
        "192 168 255 252\n",
        "\n",
        "----------Resultat---------\n",
        "\n",
        "192 168 255 253\n",
        "\n",
        "192 168 255 254\n",
        "\n",
        "192 168 255 255\n",
        "\n",
        "192 169 0 0\n",
        "\n",
        "192 169 0 1"
      ]
    },
    {
      "cell_type": "code",
      "metadata": {
        "id": "jABTke0e1gUi"
      },
      "source": [
        ""
      ],
      "execution_count": null,
      "outputs": []
    },
    {
      "cell_type": "markdown",
      "metadata": {
        "id": "GRIblj7judth"
      },
      "source": [
        "3.- L’Scrabble és un joc on els jugadors aconsegueixen punts deletrejant paraules. Les paraules són puntuades sumant els punts de cada lletra individual. \n",
        "\n",
        "Escriu un codi que demani una paraula i retorni la puntuació d'scrabble equivalent per a aquesta paraula.\n",
        "\n",
        "puntuacio = {\"a\": 1, \"c\": 3, \"b\": 3, \"e\": 1, \"d\": 2, \"g\": 2,\n",
        "         \"f\": 4, \"i\": 1, \"h\": 4, \"k\": 5, \"j\": 8, \"m\": 3,\n",
        "         \"l\": 1, \"o\": 1, \"n\": 1, \"q\": 10, \"p\": 3, \"s\": 1,\n",
        "         \"r\": 1, \"u\": 1, \"t\": 1, \"w\": 4, \"v\": 4, \"y\": 4,\n",
        "         \"x\": 8, \"z\": 10}"
      ]
    },
    {
      "cell_type": "code",
      "metadata": {
        "id": "EAC8vCC81hax"
      },
      "source": [
        "puntuacio = {\"a\": 1, \"c\": 3, \"b\": 3, \"e\": 1, \"d\": 2, \"g\": 2, \"f\": 4, \"i\": 1, \"h\": 4, \"k\": 5, \"j\": 8, \"m\": 3, \"l\": 1, \"o\": 1, \"n\": 1, \"q\": 10, \"p\": 3, \"s\": 1, \"r\": 1, \"u\": 1, \"t\": 1, \"w\": 4, \"v\": 4, \"y\": 4, \"x\": 8, \"z\": 10}\n",
        "palabra = str(input(\"Introduce tu palabra: \"))\n",
        "fp = 0\n",
        "\n",
        "for i in palabra:\n",
        "  for j in range(len(i)):\n",
        "    if i in puntuacio:\n",
        "      fp = fp + puntuacio[i]\n",
        "print(\"Puntuación Final: \", fp)"
      ],
      "execution_count": null,
      "outputs": []
    },
    {
      "cell_type": "markdown",
      "metadata": {
        "id": "e89enGT6Y5tz"
      },
      "source": [
        "**While**\n",
        "\n",
        "\n",
        "---\n",
        "\n"
      ]
    },
    {
      "cell_type": "markdown",
      "metadata": {
        "id": "BcbA8uvqXpur"
      },
      "source": [
        "4.- Escriu un codi per endevinar un número del 1 al 9. \n",
        "\n",
        "Referència: https://docs.python.org/es/3/library/random.html\n",
        "\n",
        "Ha de repetir la partida fins que s'encerti. \n",
        "\n",
        "També ha de comptar el nº d'intents fins trobar el número guanyador."
      ]
    },
    {
      "cell_type": "code",
      "metadata": {
        "id": "OPahJbQx1ilA"
      },
      "source": [
        ""
      ],
      "execution_count": null,
      "outputs": []
    },
    {
      "cell_type": "markdown",
      "metadata": {
        "id": "1oy5pjozwFbs"
      },
      "source": [
        "5.- Demanar que l'usuari escrigui una frase i imprimeixi un llistat de les vocals que apareixen a la frase (sense repetirles)"
      ]
    },
    {
      "cell_type": "code",
      "metadata": {
        "id": "SWZK-NB41jwg"
      },
      "source": [
        ""
      ],
      "execution_count": null,
      "outputs": []
    },
    {
      "cell_type": "markdown",
      "metadata": {
        "id": "iWQDSW0Hyqzh"
      },
      "source": [
        "6.- Escriu un codi que calculi la potència (producte de factors iguals) d'un número. \n",
        "La potència és la base elevada a l'exponent\n",
        "\n",
        "Ex 1:\n",
        "\n",
        "base = 2 \n",
        "\n",
        "exponent = 5\n",
        "\n",
        "potencia = 32 (2 * 2 * 2 * 2 *2)\n",
        "\n",
        "\n",
        "Ex 2:\n",
        "\n",
        "base = 5 \n",
        "\n",
        "exponent = 4\n",
        "\n",
        "potencia = 625 (5 * 5 * 5 * 5)\n"
      ]
    },
    {
      "cell_type": "code",
      "metadata": {
        "id": "x3kqiZIf1kVC"
      },
      "source": [
        "b = int(input(\"Base: \"))\n",
        "e = int(input(\"Exponente: \"))\n",
        "num = e\n",
        "p = 1\n",
        "\n",
        "while num > 0:\n",
        "  p = p * b\n",
        "  num = num - 1\n",
        "print(\"Potencia\", p)"
      ],
      "execution_count": null,
      "outputs": []
    }
  ]
}