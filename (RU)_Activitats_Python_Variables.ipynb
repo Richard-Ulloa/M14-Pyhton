{
  "nbformat": 4,
  "nbformat_minor": 0,
  "metadata": {
    "kernelspec": {
      "display_name": "Python 3",
      "language": "python",
      "name": "python3"
    },
    "language_info": {
      "codemirror_mode": {
        "name": "ipython",
        "version": 3
      },
      "file_extension": ".py",
      "mimetype": "text/x-python",
      "name": "python",
      "nbconvert_exporter": "python",
      "pygments_lexer": "ipython3",
      "version": "3.8.5"
    },
    "colab": {
      "name": "(RU) Activitats Python Variables.ipynb",
      "provenance": [],
      "collapsed_sections": []
    }
  },
  "cells": [
    {
      "cell_type": "markdown",
      "metadata": {
        "id": "6w5-hFdoBx4T"
      },
      "source": [
        "## Activitats Python Variables"
      ]
    },
    {
      "cell_type": "markdown",
      "metadata": {
        "id": "VyEjvMrTX1hK"
      },
      "source": [
        "1.-Crea una variable de tipus enter i mostra-la per pantalla\n",
        "\n"
      ]
    },
    {
      "cell_type": "code",
      "metadata": {
        "id": "iEZbolCuX1hL"
      },
      "source": [
        "entero = int(23)\n",
        "print(entero, type(entero))"
      ],
      "execution_count": null,
      "outputs": []
    },
    {
      "cell_type": "markdown",
      "metadata": {
        "id": "z_YeeqkiX1hL"
      },
      "source": [
        "2.-Crea una variable de tipus float tipo float  i mostra-la per pantalla"
      ]
    },
    {
      "cell_type": "code",
      "metadata": {
        "id": "Zg8zO2yUX1hL"
      },
      "source": [
        "flotante = float(2.03)\n",
        "print(flotante, type(flotante))"
      ],
      "execution_count": null,
      "outputs": []
    },
    {
      "cell_type": "markdown",
      "metadata": {
        "id": "iurboRQTX1hM"
      },
      "source": [
        "3.-Crea dues variables numeriques i suma-les, guardant el resultat en una altre variable anomenada \"Resultat\""
      ]
    },
    {
      "cell_type": "code",
      "metadata": {
        "id": "SbF60WfQX1hM"
      },
      "source": [
        "primernum = 4\n",
        "segonnum = 9\n",
        "Resultat = primernum + segonnum\n",
        "print(Resultat)"
      ],
      "execution_count": null,
      "outputs": []
    },
    {
      "cell_type": "markdown",
      "metadata": {
        "id": "A2KQxD4VX1hM"
      },
      "source": [
        "4.-Crea dues variables numeriques i resta-les, guardant el resultat en una altre variable anomenada \"Resultat\""
      ]
    },
    {
      "cell_type": "code",
      "metadata": {
        "id": "7hEkFHoPX1hM"
      },
      "source": [
        "primernum = 8\n",
        "segonnum = 5\n",
        "Resultat = primernum - segonnum\n",
        "print(Resultat)"
      ],
      "execution_count": null,
      "outputs": []
    },
    {
      "cell_type": "markdown",
      "metadata": {
        "id": "JzM9PWUPlnxF"
      },
      "source": [
        "5.-Crea dues variables numeriques i suma-les, guardant el resultat en una altre variable anomenada \"Resultat\" i també que retorni el tipus de dades de la variable \"resultat\""
      ]
    },
    {
      "cell_type": "code",
      "metadata": {
        "id": "-XwtA2kKl_Fc"
      },
      "source": [
        "primernum = 2\n",
        "segonnum = 6.34\n",
        "Resultat = primernum + segonnum\n",
        "print(Resultat, type(Resultat))"
      ],
      "execution_count": null,
      "outputs": []
    },
    {
      "cell_type": "markdown",
      "metadata": {
        "id": "U7zd5N-NX1hN"
      },
      "source": [
        "6.-Crea una variable tipus text, pinta-la per pantalla i fes que mostri el tipus de dades"
      ]
    },
    {
      "cell_type": "code",
      "metadata": {
        "id": "E6KFiosYX1hN"
      },
      "source": [
        "text = \"van damme\"\n",
        "print(text, type(text))"
      ],
      "execution_count": null,
      "outputs": []
    },
    {
      "cell_type": "markdown",
      "metadata": {
        "id": "bsxOZxipX1hN"
      },
      "source": [
        "7.-Crea dues variables tipus \"text\" i concatena-les en una variable anomenada \"resultat\". Finalment pinta-les per pantalla"
      ]
    },
    {
      "cell_type": "code",
      "metadata": {
        "id": "rzOGrbS9mENj"
      },
      "source": [
        "text1 = \"Hola\"\n",
        "text2 = \"nda\"\n",
        "resultat = text1 + text2\n",
        "print(resultat)"
      ],
      "execution_count": null,
      "outputs": []
    },
    {
      "cell_type": "markdown",
      "metadata": {
        "id": "HfsN03JoX1hQ"
      },
      "source": [
        "8.-Crea una entrada de teclat que et permeti recollir dos valors, el primer ha de ser un text (el teu nom) i el segon la teva edat."
      ]
    },
    {
      "cell_type": "code",
      "metadata": {
        "id": "P-DagxEvX1hR"
      },
      "source": [
        "nom = str(input(\"Ingresa tu nombre: \"))\n",
        "edat = int(input(\"Ingresa tu edad:  \"))\n",
        "\n",
        "print(\"Tu nombre es\", nom, \"y tienes\", edat, \"años\" )"
      ],
      "execution_count": null,
      "outputs": []
    },
    {
      "cell_type": "markdown",
      "metadata": {
        "id": "gZEPFNZzX1hR"
      },
      "source": [
        "9.-Crea una variable que s'anomeni \"entrada\" que reculli l'entrada (cal teclejar un número) de teclat i que li realitzi l'arrel quadrada."
      ]
    },
    {
      "cell_type": "code",
      "metadata": {
        "id": "9kS0pvsNq2KV"
      },
      "source": [
        "entrada = float(input(\"Se necesita teclear un numero: \"))\n",
        "print(\"La raiz cuadrada de\", entrada, \"es\", entrada**0.5)\n"
      ],
      "execution_count": null,
      "outputs": []
    },
    {
      "cell_type": "markdown",
      "metadata": {
        "id": "QiEXrDmoq2uW"
      },
      "source": [
        "10.-Imprimeix la data d'avui segons aquest format: \"Avui és dia/mes/any\""
      ]
    },
    {
      "cell_type": "code",
      "metadata": {
        "id": "dvM_NPIfq4Qe"
      },
      "source": [
        "print('\"Avui és 09/05/2021\"')"
      ],
      "execution_count": null,
      "outputs": []
    }
  ]
}